{
 "cells": [
  {
   "cell_type": "code",
   "execution_count": 1,
   "metadata": {},
   "outputs": [],
   "source": [
    "import numpy as np\n",
    "import pandas as pd"
   ]
  },
  {
   "cell_type": "code",
   "execution_count": 2,
   "metadata": {},
   "outputs": [],
   "source": [
    "quotes = pd.read_csv('Quotes - quotes.csv')\n",
    "words = pd.read_csv('Words - Sheet1.csv')"
   ]
  },
  {
   "cell_type": "code",
   "execution_count": 3,
   "metadata": {},
   "outputs": [
    {
     "data": {
      "text/html": [
       "<div>\n",
       "<style scoped>\n",
       "    .dataframe tbody tr th:only-of-type {\n",
       "        vertical-align: middle;\n",
       "    }\n",
       "\n",
       "    .dataframe tbody tr th {\n",
       "        vertical-align: top;\n",
       "    }\n",
       "\n",
       "    .dataframe thead th {\n",
       "        text-align: right;\n",
       "    }\n",
       "</style>\n",
       "<table border=\"1\" class=\"dataframe\">\n",
       "  <thead>\n",
       "    <tr style=\"text-align: right;\">\n",
       "      <th></th>\n",
       "      <th>quote_id</th>\n",
       "      <th>author</th>\n",
       "      <th>quote</th>\n",
       "    </tr>\n",
       "  </thead>\n",
       "  <tbody>\n",
       "    <tr>\n",
       "      <th>0</th>\n",
       "      <td>1</td>\n",
       "      <td>Thomas Edison</td>\n",
       "      <td>Genius is one percent inspiration and ninety-n...</td>\n",
       "    </tr>\n",
       "    <tr>\n",
       "      <th>1</th>\n",
       "      <td>2</td>\n",
       "      <td>Yogi Berra</td>\n",
       "      <td>You can observe a lot just by watching.</td>\n",
       "    </tr>\n",
       "    <tr>\n",
       "      <th>2</th>\n",
       "      <td>3</td>\n",
       "      <td>Abraham Lincoln</td>\n",
       "      <td>A house divided against itself cannot stand.</td>\n",
       "    </tr>\n",
       "    <tr>\n",
       "      <th>3</th>\n",
       "      <td>4</td>\n",
       "      <td>Johann Wolfgang von Goethe</td>\n",
       "      <td>Difficulties increase the nearer we get to the...</td>\n",
       "    </tr>\n",
       "    <tr>\n",
       "      <th>4</th>\n",
       "      <td>5</td>\n",
       "      <td>Byron Pulsifer</td>\n",
       "      <td>Fate is in your hands and no one elses</td>\n",
       "    </tr>\n",
       "  </tbody>\n",
       "</table>\n",
       "</div>"
      ],
      "text/plain": [
       "   quote_id                      author  \\\n",
       "0         1               Thomas Edison   \n",
       "1         2                  Yogi Berra   \n",
       "2         3             Abraham Lincoln   \n",
       "3         4  Johann Wolfgang von Goethe   \n",
       "4         5              Byron Pulsifer   \n",
       "\n",
       "                                               quote  \n",
       "0  Genius is one percent inspiration and ninety-n...  \n",
       "1            You can observe a lot just by watching.  \n",
       "2       A house divided against itself cannot stand.  \n",
       "3  Difficulties increase the nearer we get to the...  \n",
       "4             Fate is in your hands and no one elses  "
      ]
     },
     "execution_count": 3,
     "metadata": {},
     "output_type": "execute_result"
    }
   ],
   "source": [
    "quotes.head()"
   ]
  },
  {
   "cell_type": "code",
   "execution_count": 70,
   "metadata": {},
   "outputs": [
    {
     "data": {
      "text/html": [
       "<div>\n",
       "<style scoped>\n",
       "    .dataframe tbody tr th:only-of-type {\n",
       "        vertical-align: middle;\n",
       "    }\n",
       "\n",
       "    .dataframe tbody tr th {\n",
       "        vertical-align: top;\n",
       "    }\n",
       "\n",
       "    .dataframe thead th {\n",
       "        text-align: right;\n",
       "    }\n",
       "</style>\n",
       "<table border=\"1\" class=\"dataframe\">\n",
       "  <thead>\n",
       "    <tr style=\"text-align: right;\">\n",
       "      <th></th>\n",
       "      <th>search_word</th>\n",
       "    </tr>\n",
       "  </thead>\n",
       "  <tbody>\n",
       "    <tr>\n",
       "      <th>0</th>\n",
       "      <td>genius</td>\n",
       "    </tr>\n",
       "    <tr>\n",
       "      <th>1</th>\n",
       "      <td>order</td>\n",
       "    </tr>\n",
       "    <tr>\n",
       "      <th>2</th>\n",
       "      <td>idea</td>\n",
       "    </tr>\n",
       "    <tr>\n",
       "      <th>3</th>\n",
       "      <td>hope</td>\n",
       "    </tr>\n",
       "    <tr>\n",
       "      <th>4</th>\n",
       "      <td>possible</td>\n",
       "    </tr>\n",
       "    <tr>\n",
       "      <th>5</th>\n",
       "      <td>learn</td>\n",
       "    </tr>\n",
       "    <tr>\n",
       "      <th>6</th>\n",
       "      <td>future</td>\n",
       "    </tr>\n",
       "    <tr>\n",
       "      <th>7</th>\n",
       "      <td>wisdom</td>\n",
       "    </tr>\n",
       "    <tr>\n",
       "      <th>8</th>\n",
       "      <td>dream</td>\n",
       "    </tr>\n",
       "    <tr>\n",
       "      <th>9</th>\n",
       "      <td>better</td>\n",
       "    </tr>\n",
       "    <tr>\n",
       "      <th>10</th>\n",
       "      <td>life</td>\n",
       "    </tr>\n",
       "    <tr>\n",
       "      <th>11</th>\n",
       "      <td>every</td>\n",
       "    </tr>\n",
       "    <tr>\n",
       "      <th>12</th>\n",
       "      <td>fate</td>\n",
       "    </tr>\n",
       "    <tr>\n",
       "      <th>13</th>\n",
       "      <td>people</td>\n",
       "    </tr>\n",
       "    <tr>\n",
       "      <th>14</th>\n",
       "      <td>luck</td>\n",
       "    </tr>\n",
       "    <tr>\n",
       "      <th>15</th>\n",
       "      <td>wish</td>\n",
       "    </tr>\n",
       "    <tr>\n",
       "      <th>16</th>\n",
       "      <td>mistake</td>\n",
       "    </tr>\n",
       "    <tr>\n",
       "      <th>17</th>\n",
       "      <td>opportunity</td>\n",
       "    </tr>\n",
       "    <tr>\n",
       "      <th>18</th>\n",
       "      <td>world</td>\n",
       "    </tr>\n",
       "    <tr>\n",
       "      <th>19</th>\n",
       "      <td>today</td>\n",
       "    </tr>\n",
       "    <tr>\n",
       "      <th>20</th>\n",
       "      <td>trust</td>\n",
       "    </tr>\n",
       "    <tr>\n",
       "      <th>21</th>\n",
       "      <td>nothing</td>\n",
       "    </tr>\n",
       "    <tr>\n",
       "      <th>22</th>\n",
       "      <td>experience</td>\n",
       "    </tr>\n",
       "    <tr>\n",
       "      <th>23</th>\n",
       "      <td>past</td>\n",
       "    </tr>\n",
       "    <tr>\n",
       "      <th>24</th>\n",
       "      <td>way</td>\n",
       "    </tr>\n",
       "    <tr>\n",
       "      <th>25</th>\n",
       "      <td>work</td>\n",
       "    </tr>\n",
       "    <tr>\n",
       "      <th>26</th>\n",
       "      <td>well</td>\n",
       "    </tr>\n",
       "    <tr>\n",
       "      <th>27</th>\n",
       "      <td>trouble</td>\n",
       "    </tr>\n",
       "    <tr>\n",
       "      <th>28</th>\n",
       "      <td>beginning</td>\n",
       "    </tr>\n",
       "    <tr>\n",
       "      <th>29</th>\n",
       "      <td>choice</td>\n",
       "    </tr>\n",
       "  </tbody>\n",
       "</table>\n",
       "</div>"
      ],
      "text/plain": [
       "    search_word\n",
       "0        genius\n",
       "1         order\n",
       "2         idea \n",
       "3          hope\n",
       "4      possible\n",
       "5         learn\n",
       "6        future\n",
       "7        wisdom\n",
       "8         dream\n",
       "9        better\n",
       "10         life\n",
       "11        every\n",
       "12         fate\n",
       "13       people\n",
       "14         luck\n",
       "15         wish\n",
       "16      mistake\n",
       "17  opportunity\n",
       "18        world\n",
       "19        today\n",
       "20        trust\n",
       "21      nothing\n",
       "22   experience\n",
       "23         past\n",
       "24          way\n",
       "25         work\n",
       "26         well\n",
       "27      trouble\n",
       "28    beginning\n",
       "29       choice"
      ]
     },
     "execution_count": 70,
     "metadata": {},
     "output_type": "execute_result"
    }
   ],
   "source": [
    "words"
   ]
  },
  {
   "cell_type": "code",
   "execution_count": 12,
   "metadata": {},
   "outputs": [],
   "source": [
    "quotes = quotes['quote'].str.lower()"
   ]
  },
  {
   "cell_type": "code",
   "execution_count": 42,
   "metadata": {},
   "outputs": [
    {
     "data": {
      "text/plain": [
       "0      genius is one percent inspiration and ninety-n...\n",
       "1                you can observe a lot just by watching.\n",
       "2           a house divided against itself cannot stand.\n",
       "3      difficulties increase the nearer we get to the...\n",
       "4                 fate is in your hands and no one elses\n",
       "5                       be the chief but never the lord.\n",
       "6                 nothing happens unless first we dream.\n",
       "7                               well begun is half done.\n",
       "8      life is a learning experience, only if you learn.\n",
       "9                 self-complacency is fatal to progress.\n",
       "10      peace comes from within. do not seek it without.\n",
       "11                        what you give is what you get.\n",
       "12                  we can only learn to love by loving.\n",
       "13     life is change. growth is optional. choose wis...\n",
       "14                    you'll see it when you believe it.\n",
       "15     today is the tomorrow we worried about yesterday.\n",
       "16     it's easier to see the mistakes on someone els...\n",
       "17           every man dies. not every man really lives.\n",
       "18                      to lead people walk behind them.\n",
       "19                  having nothing, nothing can he lose.\n",
       "20          trouble is only opportunity in work clothes.\n",
       "21                      a rolling stone gathers no moss.\n",
       "22                                                  idea\n",
       "23                           everything in life is luck.\n",
       "24     doing nothing is better than being busy doing ...\n",
       "25     trust yourself. you know more than you think y...\n",
       "26       study the past, if you would divine the future.\n",
       "27     the day is already blessed, find peace within it.\n",
       "28     from error to error one discovers the entire t...\n",
       "29                   well done is better than well said.\n",
       "                             ...                        \n",
       "470    there is nothing like returning to a place tha...\n",
       "471    forget about all the reasons why something may...\n",
       "472    it is the mark of an educated mind to be able ...\n",
       "473    love is never lost. if not reciprocated, it wi...\n",
       "474    we all live with the objective of being happy;...\n",
       "475    many people think of prosperity that concerns ...\n",
       "476    to be beautiful means to be yourself. you don'...\n",
       "477    do not overrate what you have received, nor en...\n",
       "478    it is very easy to forgive others their mistak...\n",
       "479    bodily exercise, when compulsory, does no harm...\n",
       "480    always be yourself, express yourself, have fai...\n",
       "481    let us revere, let us worship, but erect and o...\n",
       "482    every time you smile at someone, it is an acti...\n",
       "483    silences make the real conversations between f...\n",
       "484    the key to transforming our hearts and minds i...\n",
       "485    if you must tell me your opinions, tell me wha...\n",
       "486    chance is always powerful. let your hook be al...\n",
       "487    i seek constantly to improve my manners and gr...\n",
       "488    we never understand how little we need in this...\n",
       "489    to keep the body in good health is a duty... o...\n",
       "490    take no thought of who is right or wrong or wh...\n",
       "491    i am a man of fixed and unbending principles, ...\n",
       "492    today, give a stranger a smile without waiting...\n",
       "493    the moment one gives close attention to anythi...\n",
       "494    at the center of your being you have the answe...\n",
       "495    how wonderful that we have met with a paradox....\n",
       "496    everyone is a genius at least once a year. a r...\n",
       "497    dreams pass into the reality of action. from t...\n",
       "498    without leaps of imagination, or dreaming, we ...\n",
       "499    sadness may be part of life but there is no ne...\n",
       "Name: quote, Length: 500, dtype: object"
      ]
     },
     "execution_count": 42,
     "metadata": {},
     "output_type": "execute_result"
    }
   ],
   "source": [
    "quotes"
   ]
  },
  {
   "cell_type": "code",
   "execution_count": 14,
   "metadata": {},
   "outputs": [],
   "source": [
    "words = words['search_word'].str.lower()"
   ]
  },
  {
   "cell_type": "code",
   "execution_count": 16,
   "metadata": {},
   "outputs": [],
   "source": [
    "words = pd.DataFrame(words)"
   ]
  },
  {
   "cell_type": "code",
   "execution_count": 57,
   "metadata": {},
   "outputs": [],
   "source": [
    "data = {}"
   ]
  },
  {
   "cell_type": "code",
   "execution_count": 58,
   "metadata": {},
   "outputs": [],
   "source": [
    "for i in words['search_word']:\n",
    "    data[i] = 0"
   ]
  },
  {
   "cell_type": "code",
   "execution_count": null,
   "metadata": {},
   "outputs": [],
   "source": []
  },
  {
   "cell_type": "code",
   "execution_count": 59,
   "metadata": {},
   "outputs": [
    {
     "name": "stdout",
     "output_type": "stream",
     "text": [
      "{'genius': 0, 'order': 0, 'idea ': 0, 'hope': 0, 'possible': 0, 'learn': 0, 'future': 0, 'wisdom': 0, 'dream': 0, 'better': 0, 'life': 0, 'every': 0, 'fate': 0, 'people': 0, 'luck': 0, 'wish': 0, 'mistake': 0, 'opportunity': 0, 'world': 0, 'today': 0, 'trust': 0, 'nothing': 0, 'experience': 0, 'past': 0, 'way': 0, 'work': 0, 'well': 0, 'trouble': 0, 'beginning': 0, 'choice': 0}\n"
     ]
    }
   ],
   "source": [
    "print(data)"
   ]
  },
  {
   "cell_type": "code",
   "execution_count": 60,
   "metadata": {},
   "outputs": [],
   "source": [
    "for i in words['search_word']:\n",
    "    for j in quotes:\n",
    "        if i in j:\n",
    "            data[i]+=1"
   ]
  },
  {
   "cell_type": "code",
   "execution_count": 69,
   "metadata": {},
   "outputs": [
    {
     "data": {
      "text/plain": [
       "30"
      ]
     },
     "execution_count": 69,
     "metadata": {},
     "output_type": "execute_result"
    }
   ],
   "source": [
    "len(data)"
   ]
  },
  {
   "cell_type": "code",
   "execution_count": 115,
   "metadata": {},
   "outputs": [
    {
     "data": {
      "text/plain": [
       "{'beginning': 4,\n",
       " 'better': 12,\n",
       " 'choice': 2,\n",
       " 'dream': 14,\n",
       " 'every': 27,\n",
       " 'experience': 5,\n",
       " 'fate': 2,\n",
       " 'future': 6,\n",
       " 'genius': 3,\n",
       " 'hope': 4,\n",
       " 'idea ': 0,\n",
       " 'learn': 16,\n",
       " 'life': 39,\n",
       " 'luck': 5,\n",
       " 'mistake': 7,\n",
       " 'nothing': 20,\n",
       " 'opportunity': 5,\n",
       " 'order': 4,\n",
       " 'past': 5,\n",
       " 'people': 14,\n",
       " 'possible': 8,\n",
       " 'today': 9,\n",
       " 'trouble': 1,\n",
       " 'trust': 6,\n",
       " 'way': 40,\n",
       " 'well': 4,\n",
       " 'wisdom': 13,\n",
       " 'wish': 5,\n",
       " 'work': 12,\n",
       " 'world': 18}"
      ]
     },
     "execution_count": 115,
     "metadata": {},
     "output_type": "execute_result"
    }
   ],
   "source": [
    "data"
   ]
  },
  {
   "cell_type": "code",
   "execution_count": 110,
   "metadata": {},
   "outputs": [],
   "source": [
    "dataf = pd.DataFrame(list(data.keys()))"
   ]
  },
  {
   "cell_type": "code",
   "execution_count": 112,
   "metadata": {},
   "outputs": [],
   "source": [
    "dataf[1] = data.values()"
   ]
  },
  {
   "cell_type": "code",
   "execution_count": 142,
   "metadata": {},
   "outputs": [
    {
     "data": {
      "text/html": [
       "<div>\n",
       "<style scoped>\n",
       "    .dataframe tbody tr th:only-of-type {\n",
       "        vertical-align: middle;\n",
       "    }\n",
       "\n",
       "    .dataframe tbody tr th {\n",
       "        vertical-align: top;\n",
       "    }\n",
       "\n",
       "    .dataframe thead th {\n",
       "        text-align: right;\n",
       "    }\n",
       "</style>\n",
       "<table border=\"1\" class=\"dataframe\">\n",
       "  <thead>\n",
       "    <tr style=\"text-align: right;\">\n",
       "      <th></th>\n",
       "      <th>0</th>\n",
       "      <th>1</th>\n",
       "    </tr>\n",
       "  </thead>\n",
       "  <tbody>\n",
       "    <tr>\n",
       "      <th>2</th>\n",
       "      <td>idea</td>\n",
       "      <td>0</td>\n",
       "    </tr>\n",
       "    <tr>\n",
       "      <th>27</th>\n",
       "      <td>trouble</td>\n",
       "      <td>1</td>\n",
       "    </tr>\n",
       "    <tr>\n",
       "      <th>29</th>\n",
       "      <td>choice</td>\n",
       "      <td>2</td>\n",
       "    </tr>\n",
       "    <tr>\n",
       "      <th>12</th>\n",
       "      <td>fate</td>\n",
       "      <td>2</td>\n",
       "    </tr>\n",
       "    <tr>\n",
       "      <th>0</th>\n",
       "      <td>genius</td>\n",
       "      <td>3</td>\n",
       "    </tr>\n",
       "    <tr>\n",
       "      <th>1</th>\n",
       "      <td>order</td>\n",
       "      <td>4</td>\n",
       "    </tr>\n",
       "    <tr>\n",
       "      <th>26</th>\n",
       "      <td>well</td>\n",
       "      <td>4</td>\n",
       "    </tr>\n",
       "    <tr>\n",
       "      <th>28</th>\n",
       "      <td>beginning</td>\n",
       "      <td>4</td>\n",
       "    </tr>\n",
       "    <tr>\n",
       "      <th>3</th>\n",
       "      <td>hope</td>\n",
       "      <td>4</td>\n",
       "    </tr>\n",
       "    <tr>\n",
       "      <th>17</th>\n",
       "      <td>opportunity</td>\n",
       "      <td>5</td>\n",
       "    </tr>\n",
       "    <tr>\n",
       "      <th>23</th>\n",
       "      <td>past</td>\n",
       "      <td>5</td>\n",
       "    </tr>\n",
       "    <tr>\n",
       "      <th>22</th>\n",
       "      <td>experience</td>\n",
       "      <td>5</td>\n",
       "    </tr>\n",
       "    <tr>\n",
       "      <th>15</th>\n",
       "      <td>wish</td>\n",
       "      <td>5</td>\n",
       "    </tr>\n",
       "    <tr>\n",
       "      <th>14</th>\n",
       "      <td>luck</td>\n",
       "      <td>5</td>\n",
       "    </tr>\n",
       "    <tr>\n",
       "      <th>20</th>\n",
       "      <td>trust</td>\n",
       "      <td>6</td>\n",
       "    </tr>\n",
       "    <tr>\n",
       "      <th>6</th>\n",
       "      <td>future</td>\n",
       "      <td>6</td>\n",
       "    </tr>\n",
       "    <tr>\n",
       "      <th>16</th>\n",
       "      <td>mistake</td>\n",
       "      <td>7</td>\n",
       "    </tr>\n",
       "    <tr>\n",
       "      <th>4</th>\n",
       "      <td>possible</td>\n",
       "      <td>8</td>\n",
       "    </tr>\n",
       "    <tr>\n",
       "      <th>19</th>\n",
       "      <td>today</td>\n",
       "      <td>9</td>\n",
       "    </tr>\n",
       "    <tr>\n",
       "      <th>9</th>\n",
       "      <td>better</td>\n",
       "      <td>12</td>\n",
       "    </tr>\n",
       "    <tr>\n",
       "      <th>25</th>\n",
       "      <td>work</td>\n",
       "      <td>12</td>\n",
       "    </tr>\n",
       "    <tr>\n",
       "      <th>7</th>\n",
       "      <td>wisdom</td>\n",
       "      <td>13</td>\n",
       "    </tr>\n",
       "    <tr>\n",
       "      <th>8</th>\n",
       "      <td>dream</td>\n",
       "      <td>14</td>\n",
       "    </tr>\n",
       "    <tr>\n",
       "      <th>13</th>\n",
       "      <td>people</td>\n",
       "      <td>14</td>\n",
       "    </tr>\n",
       "    <tr>\n",
       "      <th>5</th>\n",
       "      <td>learn</td>\n",
       "      <td>16</td>\n",
       "    </tr>\n",
       "    <tr>\n",
       "      <th>18</th>\n",
       "      <td>world</td>\n",
       "      <td>18</td>\n",
       "    </tr>\n",
       "    <tr>\n",
       "      <th>21</th>\n",
       "      <td>nothing</td>\n",
       "      <td>20</td>\n",
       "    </tr>\n",
       "    <tr>\n",
       "      <th>11</th>\n",
       "      <td>every</td>\n",
       "      <td>27</td>\n",
       "    </tr>\n",
       "    <tr>\n",
       "      <th>10</th>\n",
       "      <td>life</td>\n",
       "      <td>39</td>\n",
       "    </tr>\n",
       "    <tr>\n",
       "      <th>24</th>\n",
       "      <td>way</td>\n",
       "      <td>40</td>\n",
       "    </tr>\n",
       "  </tbody>\n",
       "</table>\n",
       "</div>"
      ],
      "text/plain": [
       "              0   1\n",
       "2         idea    0\n",
       "27      trouble   1\n",
       "29       choice   2\n",
       "12         fate   2\n",
       "0        genius   3\n",
       "1         order   4\n",
       "26         well   4\n",
       "28    beginning   4\n",
       "3          hope   4\n",
       "17  opportunity   5\n",
       "23         past   5\n",
       "22   experience   5\n",
       "15         wish   5\n",
       "14         luck   5\n",
       "20        trust   6\n",
       "6        future   6\n",
       "16      mistake   7\n",
       "4      possible   8\n",
       "19        today   9\n",
       "9        better  12\n",
       "25         work  12\n",
       "7        wisdom  13\n",
       "8         dream  14\n",
       "13       people  14\n",
       "5         learn  16\n",
       "18        world  18\n",
       "21      nothing  20\n",
       "11        every  27\n",
       "10         life  39\n",
       "24          way  40"
      ]
     },
     "execution_count": 142,
     "metadata": {},
     "output_type": "execute_result"
    }
   ],
   "source": [
    "dataf.sort_values(by = 1)"
   ]
  },
  {
   "cell_type": "code",
   "execution_count": 98,
   "metadata": {},
   "outputs": [],
   "source": [
    "words = list(data.keys())"
   ]
  },
  {
   "cell_type": "code",
   "execution_count": 123,
   "metadata": {},
   "outputs": [
    {
     "name": "stdout",
     "output_type": "stream",
     "text": [
      "Collecting wordcloud\n",
      "  Downloading https://files.pythonhosted.org/packages/ae/af/849edf14d573eba9c8082db898ff0d090428d9485371cc4fe21a66717ad2/wordcloud-1.5.0-cp36-cp36m-manylinux1_x86_64.whl (361kB)\n",
      "\u001b[K    100% |████████████████████████████████| 368kB 1.6MB/s ta 0:00:01\n",
      "\u001b[?25hRequirement already satisfied: numpy>=1.6.1 in /home/kunal_goyal/anaconda3/lib/python3.6/site-packages (from wordcloud)\n",
      "Requirement already satisfied: pillow in /home/kunal_goyal/anaconda3/lib/python3.6/site-packages (from wordcloud)\n",
      "Requirement already satisfied: olefile in /home/kunal_goyal/anaconda3/lib/python3.6/site-packages (from pillow->wordcloud)\n",
      "Installing collected packages: wordcloud\n",
      "Successfully installed wordcloud-1.5.0\n",
      "\u001b[33mYou are using pip version 9.0.1, however version 19.1.1 is available.\n",
      "You should consider upgrading via the 'pip install --upgrade pip' command.\u001b[0m\n"
     ]
    }
   ],
   "source": [
    "!python -m pip install wordcloud"
   ]
  },
  {
   "cell_type": "code",
   "execution_count": 124,
   "metadata": {},
   "outputs": [],
   "source": [
    "# Python program to generate WordCloud \n",
    "  \n",
    "# importing all necessery modules \n",
    "from wordcloud import WordCloud, STOPWORDS \n",
    "import matplotlib.pyplot as plt "
   ]
  },
  {
   "cell_type": "code",
   "execution_count": 127,
   "metadata": {},
   "outputs": [],
   "source": [
    "df = dataf \n",
    "comment_words = ' '\n",
    "stopwords = set(STOPWORDS) "
   ]
  },
  {
   "cell_type": "code",
   "execution_count": 135,
   "metadata": {},
   "outputs": [
    {
     "data": {
      "text/plain": [
       "['genius']"
      ]
     },
     "execution_count": 135,
     "metadata": {},
     "output_type": "execute_result"
    }
   ],
   "source": [
    "df[0][0].split()"
   ]
  },
  {
   "cell_type": "code",
   "execution_count": 144,
   "metadata": {},
   "outputs": [
    {
     "data": {
      "image/png": "[encoded data removed]",
      "text/plain": [
       "<matplotlib.figure.Figure at 0x7efe580bbc88>"
      ]
     },
     "metadata": {},
     "output_type": "display_data"
    }
   ],
   "source": [
    "# iterate through the csv file \n",
    "for val in df[0]: \n",
    "    val = str(val)  \n",
    "    tokens = val.split() \n",
    "      \n",
    "    # Converts each token into lowercase \n",
    "    for i in range(len(tokens)): \n",
    "        tokens[i] = tokens[i].lower() \n",
    "          \n",
    "    for words in tokens: \n",
    "        comment_words = comment_words + words + ' '\n",
    "  \n",
    "  \n",
    "wordcloud = WordCloud(width = 800, height = 800, \n",
    "                background_color ='white', \n",
    "                stopwords = stopwords, \n",
    "                min_font_size = 10).generate_from_frequencies(data) \n",
    "  \n",
    "# plot the WordCloud image                        \n",
    "plt.figure(figsize = (8, 8), facecolor = None) \n",
    "plt.imshow(wordcloud) \n",
    "plt.axis(\"off\") \n",
    "plt.tight_layout(pad = 0) \n",
    "plt.savefig('cloud.jpg')\n",
    "plt.show() "
   ]
  },
  {
   "cell_type": "code",
   "execution_count": null,
   "metadata": {},
   "outputs": [],
   "source": []
  }
 ],
 "metadata": {
  "kernelspec": {
   "display_name": "Python 3",
   "language": "python",
   "name": "python3"
  },
  "language_info": {
   "codemirror_mode": {
    "name": "ipython",
    "version": 3
   },
   "file_extension": ".py",
   "mimetype": "text/x-python",
   "name": "python",
   "nbconvert_exporter": "python",
   "pygments_lexer": "ipython3",
   "version": "3.6.3"
  }
 },
 "nbformat": 4,
 "nbformat_minor": 2
}
